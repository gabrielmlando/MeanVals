{
 "cells": [
  {
   "cell_type": "code",
   "execution_count": null,
   "id": "330bfa9a-af9b-4bb3-bdf3-8bb4cdd92699",
   "metadata": {},
   "outputs": [],
   "source": [
    "using Plots, LaTeXStrings, LinearAlgebra, StaticArrays"
   ]
  },
  {
   "cell_type": "code",
   "execution_count": null,
   "id": "6bb97a64-4861-4fed-874f-da4fefff5a82",
   "metadata": {},
   "outputs": [],
   "source": [
    "include(\"QuantumKRS.jl\")\n",
    "include(\"HermanKlukKRS.jl\")\n",
    "include(\"SemiclassicalMeanValsKRS/SemiclassicalMeanValsKRS.jl\");"
   ]
  },
  {
   "cell_type": "markdown",
   "id": "971e1b58-592b-492e-93ad-813ba92fba02",
   "metadata": {},
   "source": [
    "# Herman-Kluk wavefunctions"
   ]
  },
  {
   "cell_type": "code",
   "execution_count": null,
   "id": "2cab1471-93fb-417d-8833-2f4e37557bad",
   "metadata": {},
   "outputs": [],
   "source": [
    "# quantum wavefunction at kick=k\n",
    "α    = 0.6\n",
    "kick = 60\n",
    "N_qu = 2^10\n",
    "\n",
    "M0   = 3.0\n",
    "ħs   = [M0/80]\n",
    "\n",
    "par = QuantumKRS.Params(α, kick, N_qu, M0, ħs)\n",
    "\n",
    "ms_qu, θs_qu, ψs_qu_m, ψs_qu_θ = QuantumKRS.wave_at_k(par);"
   ]
  },
  {
   "cell_type": "code",
   "execution_count": null,
   "id": "00d4ed7d-2d49-4d0f-8c2d-fad2a0231bc5",
   "metadata": {},
   "outputs": [],
   "source": [
    "# HK wavefunction at kick=k\n",
    "N_sc   = N_qu\n",
    "γ      = 1.0      # unbiased coherent state width\n",
    "ntrajs = 100_000\n",
    "\n",
    "par = HermanKlukKRS.Params(α, kick, N_sc, M0, ħs[1], γ, ntrajs)\n",
    "\n",
    "@time m_sc, θ_sc, ψ_sc_m, ψ_sc_θ = HermanKlukKRS.wave_at_k(par);"
   ]
  },
  {
   "cell_type": "code",
   "execution_count": null,
   "id": "7b19f84d-f95f-4fac-a785-c71e5e48772c",
   "metadata": {},
   "outputs": [],
   "source": [
    "p1=plot(ms_qu[1], imag.(ψs_qu_m[1]), lw=1, m=true, ms=2, xlims=(M0-2,M0+2), xlabel=L\"m\",label=\"quantum\")\n",
    "plot!(m_sc, imag.(ψ_sc_m), lw=1, ls=:dash, m=:x, ms=3, label=\"HK\")\n",
    "\n",
    "p2=plot(ms_qu[1], real.(ψs_qu_m[1]), lw=1, m=true, ms=2, xlims=(M0-2,M0+2), xlabel=L\"m\",label=\"quantum\")\n",
    "plot!(m_sc, real.(ψ_sc_m), lw=1, ls=:dash, m=:x, ms=3, label=\"HK\")\n",
    "\n",
    "p3=plot(θs_qu[1], imag.(ψs_qu_θ[1]), lw=1, xlabel=L\"\\theta\",label=\"quantum\", bottom_margin=3Plots.mm)\n",
    "plot!(θ_sc, imag.(ψ_sc_θ), lw=1, ls=:dash, label=\"HK\")\n",
    "\n",
    "p4=plot(θs_qu[1], real.(ψs_qu_θ[1]), lw=1, xlabel=L\"\\theta\",label=\"quantum\", bottom_margin=3Plots.mm)\n",
    "plot!(θ_sc, real.(ψ_sc_θ), lw=1, ls=:dash, label=\"HK\")\n",
    "\n",
    "plot(p1, p2, p3, p4, size=(1200,600))"
   ]
  },
  {
   "cell_type": "markdown",
   "id": "98a394ef-6430-42ac-8a60-a814d7536ae7",
   "metadata": {},
   "source": [
    "# Mean values"
   ]
  },
  {
   "cell_type": "code",
   "execution_count": null,
   "id": "94d79449-a97a-4741-9b9d-a2a842e3f407",
   "metadata": {},
   "outputs": [],
   "source": [
    "# check that there are no filaments with complicated structure inside the detector\n",
    "M0   = 3.0\n",
    "Lₘₐₓ = 0.1e-1\n",
    "\n",
    "X0   = SVector{2}(M0, 2.0)\n",
    "Σ    = 8*SMatrix{2, 2}(1.0I)\n",
    "R    = 3/Σ[1,1]\n",
    "\n",
    "α    = 4.0\n",
    "kick = 3\n",
    "\n",
    "@time θ0s, Lk  = SemiclassicalMeanValsKRS.get_Lk(-α, kick, M0, Lₘₐₓ, X0, R, false)\n",
    "\n",
    "println(\"Number of filaments    : \", length(Lk))\n",
    "\n",
    "θ_fins, _ = SemiclassicalMeanValsKRS.filament_or_finger(θ0s, Lk);\n",
    "println(\"Number of fingers      : \", length(θ_fins)) "
   ]
  },
  {
   "cell_type": "code",
   "execution_count": null,
   "id": "584f19d9-6a81-409d-b0df-05aefbbb7123",
   "metadata": {},
   "outputs": [],
   "source": [
    "p1=plot( X0[2] .+ R*cos.(0:0.01:2π), X0[1] .+ R*sin.(0:0.01:2π), c=:red, lw=1, label=false)\n",
    "[plot!(last.(L), first.(L), c=:black, lw=1, label=false) for L in Lk]\n",
    "plot(p1, size=(500,500))"
   ]
  },
  {
   "cell_type": "code",
   "execution_count": null,
   "id": "4beec58d-95e5-4773-968f-42f1f022ea63",
   "metadata": {},
   "outputs": [],
   "source": [
    "# figure above looks good, so we move on to compute quantum mean vals as function of ħ\n",
    "α    = 4.0\n",
    "kick = 3\n",
    "N    = 2^13\n",
    "\n",
    "M0   = 3.0\n",
    "ns   = 1:500\n",
    "ħs   = M0 ./ ns\n",
    "\n",
    "par = QuantumKRS.Params(α, kick, N, M0, ħs)\n",
    "\n",
    "Σ    = 8*SMatrix{2,2}(1.0I)\n",
    "X0   = SVector{2}(M0, 2.0)\n",
    "R    = 3/Σ[1,1]\n",
    "\n",
    "mps = QuantumKRS.Detector(Σ, X0, R)\n",
    "\n",
    "Ds_qu  = QuantumKRS.mean_vals_at_k(par, mps);"
   ]
  },
  {
   "cell_type": "code",
   "execution_count": null,
   "id": "fb9c9c24-3ffd-4f16-a8b7-ca2a84836384",
   "metadata": {},
   "outputs": [],
   "source": [
    "# and then SemiclassicalMeanValsKRS mean vals\n",
    "\n",
    "Nθ       = 20\n",
    "warnings = true\n",
    "Lₘₐₓ     = 0.01e-1\n",
    "warnings = true\n",
    "\n",
    "dect = SemiclassicalMeanValsKRS.Detector(Σ, X0, R)\n",
    "pars = SemiclassicalMeanValsKRS.Params(-α, kick, M0, Lₘₐₓ, Nθ, ħs, warnings)\n",
    "\n",
    "@time Ds_smv = SemiclassicalMeanValsKRS.get_means_smv(pars, dect);"
   ]
  },
  {
   "cell_type": "code",
   "execution_count": null,
   "id": "5c5f7c5c-9511-4929-bf44-0f5818e2469a",
   "metadata": {},
   "outputs": [],
   "source": [
    "plot(ns, Ds_qu, lw=1.8, c=:black, alpha=0.5, label=\"quantum\", size=(1200,300))\n",
    "plot!(ns, Ds_smv, lw=0.7, label=\"SemiclassicalMeanValsKRS\", c=:blue)"
   ]
  }
 ],
 "metadata": {
  "kernelspec": {
   "display_name": "Julia 1.8.4",
   "language": "julia",
   "name": "julia-1.8"
  },
  "language_info": {
   "file_extension": ".jl",
   "mimetype": "application/julia",
   "name": "julia",
   "version": "1.8.4"
  }
 },
 "nbformat": 4,
 "nbformat_minor": 5
}
