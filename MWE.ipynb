{
 "cells": [
  {
   "cell_type": "code",
   "execution_count": null,
   "id": "6e66ae58-139b-4d7c-a800-754ceaae5950",
   "metadata": {},
   "outputs": [],
   "source": [
    "using Plots, LaTeXStrings, LinearAlgebra, StaticArrays"
   ]
  },
  {
   "cell_type": "code",
   "execution_count": null,
   "id": "fb103dbf-e7e9-4a4d-9cbf-24f6c1d8fae2",
   "metadata": {},
   "outputs": [],
   "source": [
    "include(\"QuantumKRS.jl\") \n",
    "include(\"HermanKlukKRS.jl\")\n",
    "include(\"SemiclassicalMeanValsKRS/SemiclassicalMeanValsKRS.jl\");"
   ]
  },
  {
   "cell_type": "markdown",
   "id": "971e1b58-592b-492e-93ad-813ba92fba02",
   "metadata": {},
   "source": [
    "# Herman-Kluk wavefunctions"
   ]
  },
  {
   "cell_type": "code",
   "execution_count": null,
   "id": "989956e2-aa7b-4340-be8d-424aa0df03cf",
   "metadata": {},
   "outputs": [],
   "source": [
    "# quantum wavefunction at kick=k\n",
    "α    = 0.6\n",
    "kick = 60\n",
    "N_qu = 2^10\n",
    "\n",
    "M0   = 3.0\n",
    "ħs   = [M0/80]\n",
    "\n",
    "par = QuantumKRS.Params(α, kick, N_qu, M0, ħs)\n",
    "\n",
    "ms_qu, θs_qu, ψs_qu_m, ψs_qu_θ = QuantumKRS.wave_at_k(par);"
   ]
  },
  {
   "cell_type": "code",
   "execution_count": null,
   "id": "35d3b903-90b1-482c-a5fb-b36216edd533",
   "metadata": {},
   "outputs": [],
   "source": [
    "# HK wavefunction at kick=k\n",
    "N_sc   = N_qu\n",
    "γ      = 1.0      # unbiased coherent state width\n",
    "ntrajs = 100_000\n",
    "\n",
    "par = HermanKlukKRS.Params(α, kick, N_sc, M0, ħs[1], γ, ntrajs)\n",
    "\n",
    "@time m_sc, θ_sc, ψ_sc_m, ψ_sc_θ = HermanKlukKRS.wave_at_k(par);"
   ]
  },
  {
   "cell_type": "code",
   "execution_count": null,
   "id": "7ffd8f2f-d232-4c66-817e-a8928f0e004c",
   "metadata": {},
   "outputs": [],
   "source": [
    "p1=plot(ms_qu[1], imag.(ψs_qu_m[1]), lw=1, m=true, ms=2, xlims=(M0-2,M0+2), xlabel=L\"m\",label=\"quantum\")\n",
    "plot!(m_sc, imag.(ψ_sc_m), lw=1, ls=:dash, m=:x, ms=3, label=\"HK\")\n",
    "\n",
    "p2=plot(ms_qu[1], real.(ψs_qu_m[1]), lw=1, m=true, ms=2, xlims=(M0-2,M0+2), xlabel=L\"m\",label=\"quantum\")\n",
    "plot!(m_sc, real.(ψ_sc_m), lw=1, ls=:dash, m=:x, ms=3, label=\"HK\")\n",
    "\n",
    "p3=plot(θs_qu[1], imag.(ψs_qu_θ[1]), lw=1, xlabel=L\"\\theta\",label=\"quantum\", bottom_margin=3Plots.mm)\n",
    "plot!(θ_sc, imag.(ψ_sc_θ), lw=1, ls=:dash, label=\"HK\")\n",
    "\n",
    "p4=plot(θs_qu[1], real.(ψs_qu_θ[1]), lw=1, xlabel=L\"\\theta\",label=\"quantum\", bottom_margin=3Plots.mm)\n",
    "plot!(θ_sc, real.(ψ_sc_θ), lw=1, ls=:dash, label=\"HK\")\n",
    "\n",
    "plot(p1, p2, p3, p4, size=(1200,600))"
   ]
  },
  {
   "cell_type": "markdown",
   "id": "98a394ef-6430-42ac-8a60-a814d7536ae7",
   "metadata": {},
   "source": [
    "# Semiclassical Mean values"
   ]
  },
  {
   "cell_type": "code",
   "execution_count": null,
   "id": "08aaa753-4491-4f93-9a88-6f6770b3abe7",
   "metadata": {},
   "outputs": [],
   "source": [
    "# check that there are no filaments with complicated structure inside the detector\n",
    "M0   = 3.0\n",
    "Lₘₐₓ = 0.1e-1\n",
    "\n",
    "X0   = SVector{2}(3.0, 2.0) # center of detector\n",
    "σ    = 2^(-7/2)             # standard deviation\n",
    "s    = 4                    # multiples of standard deviation to truncate result\n",
    "R    = s*σ                  # effective radius of detector\n",
    "\n",
    "α    = 4.0\n",
    "kick = 3\n",
    "\n",
    "@time θ0s, Lk  = SemiclassicalMeanValsKRS.get_Lk(-α, kick, M0, Lₘₐₓ, X0, R, false)\n",
    "\n",
    "println(\"Number of filaments    : \", length(Lk))\n",
    "\n",
    "θ_fins, _ = SemiclassicalMeanValsKRS.filament_or_finger(θ0s, Lk);\n",
    "println(\"Number of fingers      : \", length(θ_fins)) "
   ]
  },
  {
   "cell_type": "code",
   "execution_count": null,
   "id": "256a4fbf-d310-4d20-919f-815db8a33ff2",
   "metadata": {},
   "outputs": [],
   "source": [
    "p1=plot( X0[2] .+ R*cos.(0:0.01:2π), X0[1] .+ R*sin.(0:0.01:2π), c=:red, lw=1, label=false)\n",
    "[plot!(last.(L), first.(L), c=:black, lw=1, label=false) for L in Lk]\n",
    "plot(p1, size=(500,500))"
   ]
  },
  {
   "cell_type": "code",
   "execution_count": null,
   "id": "da9afe0b-f40e-4b5e-b749-c64394ad8aff",
   "metadata": {},
   "outputs": [],
   "source": [
    "# figure above looks good, so we move on to compute quantum mean vals as function of ħ\n",
    "α    = 4.0\n",
    "kick = 3\n",
    "N    = 2^13\n",
    "\n",
    "M0   = 3.0\n",
    "ns   = 1:500\n",
    "ħs   = M0 ./ ns\n",
    "\n",
    "par = QuantumKRS.Params(α, kick, N, M0, ħs)\n",
    "\n",
    "X0   = SVector{2}(3.0, 2.0) \n",
    "σ    = 2^(-7/2)            \n",
    "s    = 4                    \n",
    "R    = s*σ                  \n",
    "\n",
    "mps = QuantumKRS.Detector(σ, X0, R)\n",
    "\n",
    "Ds_qu  = QuantumKRS.mean_vals_at_k(par, mps);"
   ]
  },
  {
   "cell_type": "code",
   "execution_count": null,
   "id": "1b983b10-d9da-42da-bdde-f8b74e423100",
   "metadata": {},
   "outputs": [],
   "source": [
    "# and then SemiclassicalMeanValsKRS mean vals\n",
    "\n",
    "Nθ       = 20\n",
    "warnings = true\n",
    "Lₘₐₓ     = 0.01e-1\n",
    "warnings = true\n",
    "\n",
    "dect = SemiclassicalMeanValsKRS.Detector(σ, X0, R)\n",
    "pars = SemiclassicalMeanValsKRS.Params(-α, kick, M0, Lₘₐₓ, Nθ, ħs, warnings)\n",
    "\n",
    "@time Ds_smv = SemiclassicalMeanValsKRS.get_means_smv(pars, dect);"
   ]
  },
  {
   "cell_type": "code",
   "execution_count": null,
   "id": "40907669-654b-4538-9c2e-3de015e338d7",
   "metadata": {},
   "outputs": [],
   "source": [
    "plot(ns, Ds_qu, lw=1.8, c=:black, alpha=0.5, label=\"quantum\", size=(1200,300))\n",
    "plot!(ns, Ds_smv, lw=0.7, label=\"SemiclassicalMeanValsKRS\", c=:blue)"
   ]
  },
  {
   "cell_type": "markdown",
   "id": "bf38e711-fa0a-40d6-bb56-e11ea70f9a5c",
   "metadata": {},
   "source": [
    "### Please cite the original paper in case you are using this code."
   ]
  }
 ],
 "metadata": {
  "kernelspec": {
   "display_name": "Julia 1.8.4",
   "language": "julia",
   "name": "julia-1.8"
  },
  "language_info": {
   "file_extension": ".jl",
   "mimetype": "application/julia",
   "name": "julia",
   "version": "1.8.4"
  }
 },
 "nbformat": 4,
 "nbformat_minor": 5
}
